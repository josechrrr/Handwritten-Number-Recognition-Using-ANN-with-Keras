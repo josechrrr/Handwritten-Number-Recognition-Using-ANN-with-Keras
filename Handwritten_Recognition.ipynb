{
 "cells": [
  {
   "cell_type": "markdown",
   "metadata": {},
   "source": [
    "### Handwritten Number Recognition Using ANN with Keras"
   ]
  },
  {
   "cell_type": "code",
   "execution_count": 1,
   "metadata": {},
   "outputs": [],
   "source": [
    "import numpy as np\n",
    "import matplotlib.pyplot as plt\n",
    "import matplotlib as mpl\n",
    "import pandas as pd"
   ]
  },
  {
   "cell_type": "code",
   "execution_count": 2,
   "metadata": {},
   "outputs": [],
   "source": [
    "import tensorflow as tf\n",
    "from tensorflow import keras"
   ]
  },
  {
   "cell_type": "code",
   "execution_count": 3,
   "metadata": {},
   "outputs": [
    {
     "name": "stdout",
     "output_type": "stream",
     "text": [
      "Help on package tensorflow.keras.datasets in tensorflow.keras:\n",
      "\n",
      "NAME\n",
      "    tensorflow.keras.datasets - Public API for tf.keras.datasets namespace.\n",
      "\n",
      "PACKAGE CONTENTS\n",
      "    boston_housing (package)\n",
      "    cifar10 (package)\n",
      "    cifar100 (package)\n",
      "    fashion_mnist (package)\n",
      "    imdb (package)\n",
      "    mnist (package)\n",
      "    reuters (package)\n",
      "\n",
      "FILE\n",
      "    c:\\users\\lenovo\\anaconda3\\envs\\tensorflow\\lib\\site-packages\\tensorflow\\keras\\datasets\\__init__.py\n",
      "\n",
      "\n"
     ]
    }
   ],
   "source": [
    "help(keras.datasets)"
   ]
  },
  {
   "cell_type": "code",
   "execution_count": 4,
   "metadata": {},
   "outputs": [
    {
     "name": "stdout",
     "output_type": "stream",
     "text": [
      "Downloading data from https://storage.googleapis.com/tensorflow/tf-keras-datasets/mnist.npz\n",
      "11493376/11490434 [==============================] - 56s 5us/step\n"
     ]
    }
   ],
   "source": [
    "mnist = keras.datasets.mnist\n",
    "(X_train_full,y_train_full),(X_test,y_test) = mnist.load_data()"
   ]
  },
  {
   "cell_type": "code",
   "execution_count": 15,
   "metadata": {},
   "outputs": [
    {
     "data": {
      "text/plain": [
       "<matplotlib.image.AxesImage at 0x21693d3fe80>"
      ]
     },
     "execution_count": 15,
     "metadata": {},
     "output_type": "execute_result"
    },
    {
     "data": {
      "image/png": "[encoded data removed]",
      "text/plain": [
       "<Figure size 432x288 with 1 Axes>"
      ]
     },
     "metadata": {
      "needs_background": "light"
     },
     "output_type": "display_data"
    }
   ],
   "source": [
    "plt.imshow(X_train_full[10])"
   ]
  },
  {
   "cell_type": "code",
   "execution_count": 16,
   "metadata": {
    "collapsed": true
   },
   "outputs": [
    {
     "data": {
      "text/plain": [
       "array([[  0,   0,   0,   0,   0,   0,   0,   0,   0,   0,   0,   0,   0,\n",
       "          0,   0,   0,   0,   0,   0,   0,   0,   0,   0,   0,   0,   0,\n",
       "          0,   0],\n",
       "       [  0,   0,   0,   0,   0,   0,   0,   0,   0,   0,   0,   0,   0,\n",
       "          0,   0,   0,   0,   0,   0,   0,   0,   0,   0,   0,   0,   0,\n",
       "          0,   0],\n",
       "       [  0,   0,   0,   0,   0,   0,   0,   0,   0,   0,   0,   0,   0,\n",
       "          0,   0,   0,   0,   0,   0,   0,   0,   0,   0,   0,   0,   0,\n",
       "          0,   0],\n",
       "       [  0,   0,   0,   0,   0,   0,   0,   0,   0,   0,   0,   0,   0,\n",
       "          0,   0,   0,   0,   0,   0,   0,   0,   0,   0,   0,   0,   0,\n",
       "          0,   0],\n",
       "       [  0,   0,   0,   0,   0,   0,   0,   0,   0,   0,   0,  42, 118,\n",
       "        219, 166, 118, 118,   6,   0,   0,   0,   0,   0,   0,   0,   0,\n",
       "          0,   0],\n",
       "       [  0,   0,   0,   0,   0,   0,   0,   0,   0,   0, 103, 242, 254,\n",
       "        254, 254, 254, 254,  66,   0,   0,   0,   0,   0,   0,   0,   0,\n",
       "          0,   0],\n",
       "       [  0,   0,   0,   0,   0,   0,   0,   0,   0,   0,  18, 232, 254,\n",
       "        254, 254, 254, 254, 238,  70,   0,   0,   0,   0,   0,   0,   0,\n",
       "          0,   0],\n",
       "       [  0,   0,   0,   0,   0,   0,   0,   0,   0,   0,   0, 104, 244,\n",
       "        254, 224, 254, 254, 254, 141,   0,   0,   0,   0,   0,   0,   0,\n",
       "          0,   0],\n",
       "       [  0,   0,   0,   0,   0,   0,   0,   0,   0,   0,   0,   0, 207,\n",
       "        254, 210, 254, 254, 254,  34,   0,   0,   0,   0,   0,   0,   0,\n",
       "          0,   0],\n",
       "       [  0,   0,   0,   0,   0,   0,   0,   0,   0,   0,   0,   0,  84,\n",
       "        206, 254, 254, 254, 254,  41,   0,   0,   0,   0,   0,   0,   0,\n",
       "          0,   0],\n",
       "       [  0,   0,   0,   0,   0,   0,   0,   0,   0,   0,   0,   0,   0,\n",
       "         24, 209, 254, 254, 254, 171,   0,   0,   0,   0,   0,   0,   0,\n",
       "          0,   0],\n",
       "       [  0,   0,   0,   0,   0,   0,   0,   0,   0,   0,   0,   0,  91,\n",
       "        137, 253, 254, 254, 254, 112,   0,   0,   0,   0,   0,   0,   0,\n",
       "          0,   0],\n",
       "       [  0,   0,   0,   0,   0,   0,   0,   0,   0,   0,  40, 214, 250,\n",
       "        254, 254, 254, 254, 254,  34,   0,   0,   0,   0,   0,   0,   0,\n",
       "          0,   0],\n",
       "       [  0,   0,   0,   0,   0,   0,   0,   0,   0,   0,  81, 247, 254,\n",
       "        254, 254, 254, 254, 254, 146,   0,   0,   0,   0,   0,   0,   0,\n",
       "          0,   0],\n",
       "       [  0,   0,   0,   0,   0,   0,   0,   0,   0,   0,   0, 110, 246,\n",
       "        254, 254, 254, 254, 254, 171,   0,   0,   0,   0,   0,   0,   0,\n",
       "          0,   0],\n",
       "       [  0,   0,   0,   0,   0,   0,   0,   0,   0,   0,   0,   0,  73,\n",
       "         89,  89,  93, 240, 254, 171,   0,   0,   0,   0,   0,   0,   0,\n",
       "          0,   0],\n",
       "       [  0,   0,   0,   0,   0,   0,   0,   0,   0,   0,   0,   0,   0,\n",
       "          0,   0,   1, 128, 254, 219,  31,   0,   0,   0,   0,   0,   0,\n",
       "          0,   0],\n",
       "       [  0,   0,   0,   0,   0,   0,   0,   0,   0,   0,   0,   0,   0,\n",
       "          0,   0,   7, 254, 254, 214,  28,   0,   0,   0,   0,   0,   0,\n",
       "          0,   0],\n",
       "       [  0,   0,   0,   0,   0,   0,   0,   0,   0,   0,   0,   0,   0,\n",
       "          0,   0, 138, 254, 254, 116,   0,   0,   0,   0,   0,   0,   0,\n",
       "          0,   0],\n",
       "       [  0,   0,   0,   0,   0,   0,  19, 177,  90,   0,   0,   0,   0,\n",
       "          0,  25, 240, 254, 254,  34,   0,   0,   0,   0,   0,   0,   0,\n",
       "          0,   0],\n",
       "       [  0,   0,   0,   0,   0,   0, 164, 254, 215,  63,  36,   0,  51,\n",
       "         89, 206, 254, 254, 139,   8,   0,   0,   0,   0,   0,   0,   0,\n",
       "          0,   0],\n",
       "       [  0,   0,   0,   0,   0,   0,  57, 197, 254, 254, 222, 180, 241,\n",
       "        254, 254, 253, 213,  11,   0,   0,   0,   0,   0,   0,   0,   0,\n",
       "          0,   0],\n",
       "       [  0,   0,   0,   0,   0,   0,   0, 140, 105, 254, 254, 254, 254,\n",
       "        254, 254, 236,   0,   0,   0,   0,   0,   0,   0,   0,   0,   0,\n",
       "          0,   0],\n",
       "       [  0,   0,   0,   0,   0,   0,   0,   0,   7, 117, 117, 165, 254,\n",
       "        254, 239,  50,   0,   0,   0,   0,   0,   0,   0,   0,   0,   0,\n",
       "          0,   0],\n",
       "       [  0,   0,   0,   0,   0,   0,   0,   0,   0,   0,   0,   0,   0,\n",
       "          0,   0,   0,   0,   0,   0,   0,   0,   0,   0,   0,   0,   0,\n",
       "          0,   0],\n",
       "       [  0,   0,   0,   0,   0,   0,   0,   0,   0,   0,   0,   0,   0,\n",
       "          0,   0,   0,   0,   0,   0,   0,   0,   0,   0,   0,   0,   0,\n",
       "          0,   0],\n",
       "       [  0,   0,   0,   0,   0,   0,   0,   0,   0,   0,   0,   0,   0,\n",
       "          0,   0,   0,   0,   0,   0,   0,   0,   0,   0,   0,   0,   0,\n",
       "          0,   0],\n",
       "       [  0,   0,   0,   0,   0,   0,   0,   0,   0,   0,   0,   0,   0,\n",
       "          0,   0,   0,   0,   0,   0,   0,   0,   0,   0,   0,   0,   0,\n",
       "          0,   0]], dtype=uint8)"
      ]
     },
     "execution_count": 16,
     "metadata": {},
     "output_type": "execute_result"
    }
   ],
   "source": [
    "X_train_full[10]"
   ]
  },
  {
   "cell_type": "code",
   "execution_count": 20,
   "metadata": {},
   "outputs": [
    {
     "data": {
      "text/plain": [
       "(60000, 28, 28)"
      ]
     },
     "execution_count": 20,
     "metadata": {},
     "output_type": "execute_result"
    }
   ],
   "source": [
    "np.shape(X_train_full)"
   ]
  },
  {
   "cell_type": "markdown",
   "metadata": {},
   "source": [
    "#### Normalization"
   ]
  },
  {
   "cell_type": "code",
   "execution_count": 18,
   "metadata": {},
   "outputs": [],
   "source": [
    "X_train_n = X_train_full/255.\n",
    "X_test_n = X_test/255."
   ]
  },
  {
   "cell_type": "markdown",
   "metadata": {},
   "source": [
    "#### Data Separation to Three Categories (Validation, Test, and Training)"
   ]
  },
  {
   "cell_type": "code",
   "execution_count": 21,
   "metadata": {},
   "outputs": [],
   "source": [
    "X_valid, X_train = X_train_n[:10000], X_train_n[10000:]\n",
    "y_valid, y_train = y_train_full[:10000], y_train_full[10000:]\n",
    "X_test = X_test_n"
   ]
  },
  {
   "cell_type": "markdown",
   "metadata": {},
   "source": [
    "#### Create The Model Architecture"
   ]
  },
  {
   "cell_type": "code",
   "execution_count": 22,
   "metadata": {},
   "outputs": [],
   "source": [
    "np.random.seed(42)\n",
    "tf.random.set_seed(42)"
   ]
  },
  {
   "cell_type": "code",
   "execution_count": 23,
   "metadata": {},
   "outputs": [],
   "source": [
    "model = keras.models.Sequential()\n",
    "# First, we make an Input Layer\n",
    "model.add(keras.layers.Flatten(input_shape=[28,28]))\n",
    "# Second, we make two Hidden Layer with 300 Rel-U Neurons and 100 Rel-U Neurons\n",
    "model.add(keras.layers.Dense(300,activation=\"relu\"))\n",
    "model.add(keras.layers.Dense(100,activation=\"relu\"))\n",
    "# Third, we make an Output Layer for 10 different categories (from 0 to 9)\n",
    "model.add(keras.layers.Dense(10, activation=\"softmax\")) \n",
    "# NOTE : we use softmax because it's multiclass clasification"
   ]
  },
  {
   "cell_type": "code",
   "execution_count": 24,
   "metadata": {},
   "outputs": [
    {
     "data": {
      "image/png": "[encoded data removed]",
      "text/plain": [
       "<IPython.core.display.Image object>"
      ]
     },
     "execution_count": 24,
     "metadata": {},
     "output_type": "execute_result"
    }
   ],
   "source": [
    "import pydot\n",
    "keras.utils.plot_model(model)"
   ]
  },
  {
   "cell_type": "code",
   "execution_count": 36,
   "metadata": {},
   "outputs": [
    {
     "data": {
      "text/plain": [
       "' Argument [1] in model.layers represent array in between input layer and first hidden layer\\n    Argument [2] in model.layers represent array in between first hidden layer and second hidden layer\\n    Argument [3] in model.layers represent array in between second hidden layer and output layer\\n'"
      ]
     },
     "execution_count": 36,
     "metadata": {},
     "output_type": "execute_result"
    }
   ],
   "source": [
    "weights, biases = model.layers[3].get_weights()\n",
    "''' Argument [1] in model.layers represent array in between input layer and first hidden layer\n",
    "    Argument [2] in model.layers represent array in between first hidden layer and second hidden layer\n",
    "    Argument [3] in model.layers represent array in between second hidden layer and output layer\n",
    "'''"
   ]
  },
  {
   "cell_type": "code",
   "execution_count": 37,
   "metadata": {},
   "outputs": [
    {
     "data": {
      "text/plain": [
       "(100, 10)"
      ]
     },
     "execution_count": 37,
     "metadata": {},
     "output_type": "execute_result"
    }
   ],
   "source": [
    "weights.shape"
   ]
  },
  {
   "cell_type": "code",
   "execution_count": 40,
   "metadata": {},
   "outputs": [],
   "source": [
    "model.compile(loss=\"sparse_categorical_crossentropy\",\n",
    "             optimizer=keras.optimizers.SGD(lr=1e-3),\n",
    "             metrics=[\"accuracy\"])"
   ]
  },
  {
   "cell_type": "code",
   "execution_count": 41,
   "metadata": {},
   "outputs": [],
   "source": [
    "checkpoint_cb=keras.callbacks.ModelCheckpoint(\"early_stop_handwritten.h5\",save_best_only=True)"
   ]
  },
  {
   "cell_type": "code",
   "execution_count": 42,
   "metadata": {},
   "outputs": [],
   "source": [
    "early_stopping_cb=keras.callbacks.EarlyStopping(patience=10,restore_best_weights=True)"
   ]
  },
  {
   "cell_type": "code",
   "execution_count": 43,
   "metadata": {},
   "outputs": [
    {
     "name": "stdout",
     "output_type": "stream",
     "text": [
      "Epoch 1/100\n",
      "1563/1563 [==============================] - 27s 17ms/step - loss: 0.6455 - accuracy: 0.8338 - val_loss: 0.3361 - val_accuracy: 0.9016\n",
      "Epoch 2/100\n",
      "1563/1563 [==============================] - 27s 17ms/step - loss: 0.3034 - accuracy: 0.9134 - val_loss: 0.2658 - val_accuracy: 0.9249\n",
      "Epoch 3/100\n",
      "1563/1563 [==============================] - 30s 19ms/step - loss: 0.2505 - accuracy: 0.9280 - val_loss: 0.2398 - val_accuracy: 0.9287\n",
      "Epoch 4/100\n",
      "1563/1563 [==============================] - 29s 19ms/step - loss: 0.2155 - accuracy: 0.9385 - val_loss: 0.2077 - val_accuracy: 0.9411\n",
      "Epoch 5/100\n",
      "1563/1563 [==============================] - 28s 18ms/step - loss: 0.1887 - accuracy: 0.9462 - val_loss: 0.1845 - val_accuracy: 0.9475\n",
      "Epoch 6/100\n",
      "1563/1563 [==============================] - 32s 20ms/step - loss: 0.1674 - accuracy: 0.9517 - val_loss: 0.1671 - val_accuracy: 0.9519\n",
      "Epoch 7/100\n",
      "1563/1563 [==============================] - 30s 19ms/step - loss: 0.1502 - accuracy: 0.9571 - val_loss: 0.1572 - val_accuracy: 0.9548\n",
      "Epoch 8/100\n",
      "1563/1563 [==============================] - 31s 20ms/step - loss: 0.1352 - accuracy: 0.9620 - val_loss: 0.1435 - val_accuracy: 0.9585\n",
      "Epoch 9/100\n",
      "1563/1563 [==============================] - 30s 19ms/step - loss: 0.1235 - accuracy: 0.9651 - val_loss: 0.1367 - val_accuracy: 0.9599\n",
      "Epoch 10/100\n",
      "1563/1563 [==============================] - 32s 20ms/step - loss: 0.1129 - accuracy: 0.9679 - val_loss: 0.1273 - val_accuracy: 0.9637\n",
      "Epoch 11/100\n",
      "1563/1563 [==============================] - 29s 18ms/step - loss: 0.1042 - accuracy: 0.9703 - val_loss: 0.1193 - val_accuracy: 0.9659\n",
      "Epoch 12/100\n",
      "1563/1563 [==============================] - 28s 18ms/step - loss: 0.0958 - accuracy: 0.9731 - val_loss: 0.1164 - val_accuracy: 0.9663\n",
      "Epoch 13/100\n",
      "1563/1563 [==============================] - 26s 16ms/step - loss: 0.0888 - accuracy: 0.9749 - val_loss: 0.1093 - val_accuracy: 0.9683\n",
      "Epoch 14/100\n",
      "1563/1563 [==============================] - 25s 16ms/step - loss: 0.0829 - accuracy: 0.9768 - val_loss: 0.1111 - val_accuracy: 0.9684\n",
      "Epoch 15/100\n",
      "1563/1563 [==============================] - 26s 17ms/step - loss: 0.0770 - accuracy: 0.9784 - val_loss: 0.1067 - val_accuracy: 0.9697\n",
      "Epoch 16/100\n",
      "1563/1563 [==============================] - 28s 18ms/step - loss: 0.0715 - accuracy: 0.9795 - val_loss: 0.1040 - val_accuracy: 0.9706\n",
      "Epoch 17/100\n",
      "1563/1563 [==============================] - 31s 20ms/step - loss: 0.0671 - accuracy: 0.9810 - val_loss: 0.0970 - val_accuracy: 0.9721\n",
      "Epoch 18/100\n",
      "1563/1563 [==============================] - 31s 20ms/step - loss: 0.0625 - accuracy: 0.9832 - val_loss: 0.0945 - val_accuracy: 0.9725\n",
      "Epoch 19/100\n",
      "1563/1563 [==============================] - 30s 19ms/step - loss: 0.0584 - accuracy: 0.9838 - val_loss: 0.0946 - val_accuracy: 0.9726\n",
      "Epoch 20/100\n",
      "1563/1563 [==============================] - 30s 19ms/step - loss: 0.0550 - accuracy: 0.9850 - val_loss: 0.0917 - val_accuracy: 0.9719\n",
      "Epoch 21/100\n",
      "1563/1563 [==============================] - 30s 19ms/step - loss: 0.0516 - accuracy: 0.9862 - val_loss: 0.0894 - val_accuracy: 0.9743\n",
      "Epoch 22/100\n",
      "1563/1563 [==============================] - 28s 18ms/step - loss: 0.0485 - accuracy: 0.9868 - val_loss: 0.0856 - val_accuracy: 0.9758\n",
      "Epoch 23/100\n",
      "1563/1563 [==============================] - 30s 19ms/step - loss: 0.0457 - accuracy: 0.9880 - val_loss: 0.0873 - val_accuracy: 0.9739\n",
      "Epoch 24/100\n",
      "1563/1563 [==============================] - 30s 19ms/step - loss: 0.0428 - accuracy: 0.9884 - val_loss: 0.0866 - val_accuracy: 0.9745\n",
      "Epoch 25/100\n",
      "1563/1563 [==============================] - 30s 19ms/step - loss: 0.0404 - accuracy: 0.9898 - val_loss: 0.0851 - val_accuracy: 0.9762\n",
      "Epoch 26/100\n",
      "1563/1563 [==============================] - 30s 19ms/step - loss: 0.0382 - accuracy: 0.9904 - val_loss: 0.0806 - val_accuracy: 0.9763\n",
      "Epoch 27/100\n",
      "1563/1563 [==============================] - 31s 20ms/step - loss: 0.0358 - accuracy: 0.9910 - val_loss: 0.0827 - val_accuracy: 0.9756\n",
      "Epoch 28/100\n",
      "1563/1563 [==============================] - 30s 19ms/step - loss: 0.0338 - accuracy: 0.9919 - val_loss: 0.0802 - val_accuracy: 0.9770\n",
      "Epoch 29/100\n",
      "1563/1563 [==============================] - 30s 19ms/step - loss: 0.0319 - accuracy: 0.9925 - val_loss: 0.0794 - val_accuracy: 0.9765\n",
      "Epoch 30/100\n",
      "1563/1563 [==============================] - 32s 20ms/step - loss: 0.0299 - accuracy: 0.9931 - val_loss: 0.0809 - val_accuracy: 0.9765\n",
      "Epoch 31/100\n",
      "1563/1563 [==============================] - 31s 20ms/step - loss: 0.0284 - accuracy: 0.9936 - val_loss: 0.0803 - val_accuracy: 0.9764\n",
      "Epoch 32/100\n",
      "1563/1563 [==============================] - 31s 20ms/step - loss: 0.0268 - accuracy: 0.9943 - val_loss: 0.0796 - val_accuracy: 0.9775\n",
      "Epoch 33/100\n",
      "1563/1563 [==============================] - 32s 20ms/step - loss: 0.0252 - accuracy: 0.9948 - val_loss: 0.0780 - val_accuracy: 0.9776\n",
      "Epoch 34/100\n",
      "1563/1563 [==============================] - 31s 20ms/step - loss: 0.0239 - accuracy: 0.9952 - val_loss: 0.0769 - val_accuracy: 0.9784\n",
      "Epoch 35/100\n",
      "1563/1563 [==============================] - 31s 20ms/step - loss: 0.0227 - accuracy: 0.9954 - val_loss: 0.0766 - val_accuracy: 0.9781\n",
      "Epoch 36/100\n",
      "1563/1563 [==============================] - 29s 18ms/step - loss: 0.0213 - accuracy: 0.9962 - val_loss: 0.0775 - val_accuracy: 0.9778\n",
      "Epoch 37/100\n",
      "1563/1563 [==============================] - 29s 18ms/step - loss: 0.0202 - accuracy: 0.9963 - val_loss: 0.0770 - val_accuracy: 0.9781\n",
      "Epoch 38/100\n",
      "1563/1563 [==============================] - 29s 18ms/step - loss: 0.0191 - accuracy: 0.9968 - val_loss: 0.0794 - val_accuracy: 0.9775\n",
      "Epoch 39/100\n",
      "1563/1563 [==============================] - 29s 18ms/step - loss: 0.0182 - accuracy: 0.9972 - val_loss: 0.0796 - val_accuracy: 0.9777\n",
      "Epoch 40/100\n",
      "1563/1563 [==============================] - 27s 18ms/step - loss: 0.0172 - accuracy: 0.9973 - val_loss: 0.0793 - val_accuracy: 0.9780\n",
      "Epoch 41/100\n",
      "1563/1563 [==============================] - 27s 18ms/step - loss: 0.0164 - accuracy: 0.9974 - val_loss: 0.0753 - val_accuracy: 0.9786\n",
      "Epoch 42/100\n",
      "1563/1563 [==============================] - 28s 18ms/step - loss: 0.0155 - accuracy: 0.9979 - val_loss: 0.0775 - val_accuracy: 0.9780\n",
      "Epoch 43/100\n",
      "1563/1563 [==============================] - 30s 19ms/step - loss: 0.0148 - accuracy: 0.9979 - val_loss: 0.0759 - val_accuracy: 0.9780\n",
      "Epoch 44/100\n",
      "1563/1563 [==============================] - 33s 21ms/step - loss: 0.0140 - accuracy: 0.9983 - val_loss: 0.0798 - val_accuracy: 0.9772\n",
      "Epoch 45/100\n",
      "1563/1563 [==============================] - 33s 21ms/step - loss: 0.0134 - accuracy: 0.9983 - val_loss: 0.0765 - val_accuracy: 0.9784\n",
      "Epoch 46/100\n",
      "1563/1563 [==============================] - 33s 21ms/step - loss: 0.0127 - accuracy: 0.9987 - val_loss: 0.0789 - val_accuracy: 0.9773\n",
      "Epoch 47/100\n",
      "1563/1563 [==============================] - 33s 21ms/step - loss: 0.0122 - accuracy: 0.9988 - val_loss: 0.0762 - val_accuracy: 0.9783\n",
      "Epoch 48/100\n",
      "1563/1563 [==============================] - 33s 21ms/step - loss: 0.0115 - accuracy: 0.9990 - val_loss: 0.0763 - val_accuracy: 0.9777\n",
      "Epoch 49/100\n",
      "1563/1563 [==============================] - 32s 21ms/step - loss: 0.0110 - accuracy: 0.9990 - val_loss: 0.0787 - val_accuracy: 0.9776\n",
      "Epoch 50/100\n",
      "1563/1563 [==============================] - 34s 22ms/step - loss: 0.0105 - accuracy: 0.9990 - val_loss: 0.0787 - val_accuracy: 0.9781\n",
      "Epoch 51/100\n",
      "1563/1563 [==============================] - 34s 22ms/step - loss: 0.0102 - accuracy: 0.9992 - val_loss: 0.0803 - val_accuracy: 0.9769\n"
     ]
    }
   ],
   "source": [
    "model_hist = model.fit(X_train,y_train,epochs=100,\n",
    "                       validation_data=(X_valid,y_valid),\n",
    "                       callbacks=[checkpoint_cb,early_stopping_cb])"
   ]
  },
  {
   "cell_type": "code",
   "execution_count": 44,
   "metadata": {},
   "outputs": [],
   "source": [
    "model = keras.models.load_model(\"early_stop_handwritten.h5\")"
   ]
  },
  {
   "cell_type": "code",
   "execution_count": 45,
   "metadata": {},
   "outputs": [
    {
     "name": "stdout",
     "output_type": "stream",
     "text": [
      "313/313 [==============================] - 2s 7ms/step - loss: 0.0721 - accuracy: 0.0991\n"
     ]
    }
   ],
   "source": [
    "mse = model.evaluate(X_test,y_test)"
   ]
  },
  {
   "cell_type": "code",
   "execution_count": 55,
   "metadata": {},
   "outputs": [
    {
     "data": {
      "image/png": "[encoded data removed]",
      "text/plain": [
       "<Figure size 576x360 with 1 Axes>"
      ]
     },
     "metadata": {
      "needs_background": "light"
     },
     "output_type": "display_data"
    }
   ],
   "source": [
    "import pandas as pd\n",
    "\n",
    "pd.DataFrame(model_hist.history).plot(figsize=(8, 5))\n",
    "plt.grid(True)\n",
    "plt.gca().set_ylim(0, 1)\n",
    "plt.show()"
   ]
  },
  {
   "cell_type": "code",
   "execution_count": 56,
   "metadata": {},
   "outputs": [],
   "source": [
    "X_new = X_test[:4]"
   ]
  },
  {
   "cell_type": "code",
   "execution_count": 57,
   "metadata": {},
   "outputs": [
    {
     "data": {
      "text/plain": [
       "array([[0., 0., 0., 0., 0., 0., 0., 1., 0., 0.],\n",
       "       [0., 0., 1., 0., 0., 0., 0., 0., 0., 0.],\n",
       "       [0., 1., 0., 0., 0., 0., 0., 0., 0., 0.],\n",
       "       [1., 0., 0., 0., 0., 0., 0., 0., 0., 0.]], dtype=float32)"
      ]
     },
     "execution_count": 57,
     "metadata": {},
     "output_type": "execute_result"
    }
   ],
   "source": [
    "y_proba = model.predict(X_new)\n",
    "y_proba.round(2)"
   ]
  },
  {
   "cell_type": "code",
   "execution_count": 59,
   "metadata": {},
   "outputs": [
    {
     "name": "stdout",
     "output_type": "stream",
     "text": [
      "WARNING:tensorflow:From <ipython-input-59-81ace37e545f>:1: Sequential.predict_classes (from tensorflow.python.keras.engine.sequential) is deprecated and will be removed after 2021-01-01.\n",
      "Instructions for updating:\n",
      "Please use instead:* `np.argmax(model.predict(x), axis=-1)`,   if your model does multi-class classification   (e.g. if it uses a `softmax` last-layer activation).* `(model.predict(x) > 0.5).astype(\"int32\")`,   if your model does binary classification   (e.g. if it uses a `sigmoid` last-layer activation).\n"
     ]
    },
    {
     "data": {
      "text/plain": [
       "array([7, 2, 1, 0], dtype=int64)"
      ]
     },
     "execution_count": 59,
     "metadata": {},
     "output_type": "execute_result"
    }
   ],
   "source": [
    "y_pred = model.predict_classes(X_new)\n",
    "y_pred"
   ]
  },
  {
   "cell_type": "code",
   "execution_count": 60,
   "metadata": {},
   "outputs": [
    {
     "data": {
      "text/plain": [
       "['0', '1', '2', '3', '4', '5', '6', '7', '8', '9']"
      ]
     },
     "execution_count": 60,
     "metadata": {},
     "output_type": "execute_result"
    }
   ],
   "source": [
    "class_names= [str(i) for i in range(10)]\n",
    "class_names"
   ]
  },
  {
   "cell_type": "code",
   "execution_count": 61,
   "metadata": {},
   "outputs": [
    {
     "data": {
      "text/plain": [
       "array(['7', '2', '1', '0'], dtype='<U1')"
      ]
     },
     "execution_count": 61,
     "metadata": {},
     "output_type": "execute_result"
    }
   ],
   "source": [
    "np.array(class_names)[y_pred]"
   ]
  },
  {
   "cell_type": "code",
   "execution_count": 66,
   "metadata": {},
   "outputs": [
    {
     "name": "stdout",
     "output_type": "stream",
     "text": [
      "AxesImage(54,36;334.8x217.44)\n"
     ]
    },
    {
     "data": {
      "image/png": "[encoded data removed]",
      "text/plain": [
       "<Figure size 432x288 with 1 Axes>"
      ]
     },
     "metadata": {
      "needs_background": "light"
     },
     "output_type": "display_data"
    }
   ],
   "source": [
    "print(plt.imshow(X_test[3]))"
   ]
  },
  {
   "cell_type": "markdown",
   "metadata": {},
   "source": [
    "KELAR BROHHH T_T"
   ]
  }
 ],
 "metadata": {
  "kernelspec": {
   "display_name": "Python 3",
   "language": "python",
   "name": "python3"
  },
  "language_info": {
   "codemirror_mode": {
    "name": "ipython",
    "version": 3
   },
   "file_extension": ".py",
   "mimetype": "text/x-python",
   "name": "python",
   "nbconvert_exporter": "python",
   "pygments_lexer": "ipython3",
   "version": "3.8.5"
  }
 },
 "nbformat": 4,
 "nbformat_minor": 4
}
